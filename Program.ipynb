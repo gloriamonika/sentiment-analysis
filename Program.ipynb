{
 "cells": [
  {
   "cell_type": "markdown",
   "metadata": {},
   "source": [
    "<h1>Analisis Sentimen Terhadap Presiden Jokowi</h1>"
   ]
  },
  {
   "cell_type": "code",
   "execution_count": 92,
   "metadata": {},
   "outputs": [],
   "source": [
    "import re as regex\n",
    "import pandas as pd\n",
    "from Sastrawi.Stemmer.StemmerFactory import StemmerFactory\n",
    "from Sastrawi.StopWordRemover.StopWordRemoverFactory import StopWordRemoverFactory"
   ]
  },
  {
   "cell_type": "markdown",
   "metadata": {},
   "source": [
    "<p>Data berikut diperoleh dari komentar warganet terhadap Presiden Jokowi di Instagram. Pengumpulan data dilakukan dengan melakukan pencarian berdasarkan tag #jokowi</p>"
   ]
  },
  {
   "cell_type": "code",
   "execution_count": 94,
   "metadata": {},
   "outputs": [
    {
     "name": "stdout",
     "output_type": "stream",
     "text": [
      "{'label': 'pos', 'kalimat': 'MAJU TRUSS PAK JOKOWI!!!'}\n"
     ]
    }
   ],
   "source": [
    "data = pd.read_csv(\"dataset jokowi.csv\", encoding = \"ISO-8859-1\")\n",
    "\n",
    "arr_data = []\n",
    "for index, row in data.iterrows():\n",
    "    map_data = {}\n",
    "    r = row[0].split(\";\")\n",
    "    map_data[\"label\"] = r[0]\n",
    "    map_data[\"kalimat\"] = r[1]\n",
    "    \n",
    "    if not pd.isnull(row[1]):\n",
    "        map_data[\"kalimat\"] += row[1]\n",
    "    arr_data.append(map_data)\n",
    "print(arr_data[19])"
   ]
  },
  {
   "cell_type": "markdown",
   "metadata": {},
   "source": [
    "<h2><i>Preprocessing</i></h2>"
   ]
  },
  {
   "cell_type": "markdown",
   "metadata": {},
   "source": [
    "<h4>Symbol Removal</h4>"
   ]
  },
  {
   "cell_type": "code",
   "execution_count": 95,
   "metadata": {},
   "outputs": [
    {
     "name": "stdout",
     "output_type": "stream",
     "text": [
      "MAJU TRUSS PAK JOKOWI\n"
     ]
    }
   ],
   "source": [
    "symbolless = []\n",
    "for d in arr_data:\n",
    "    sentence = regex.sub(\"[^a-zA-Z0-9 ]\",\"\",d[\"kalimat\"])\n",
    "    symbolless.append(sentence)\n",
    "print(symbolless[19])"
   ]
  },
  {
   "cell_type": "markdown",
   "metadata": {},
   "source": [
    "<h4>Casefolding</h4>"
   ]
  },
  {
   "cell_type": "code",
   "execution_count": 96,
   "metadata": {},
   "outputs": [
    {
     "name": "stdout",
     "output_type": "stream",
     "text": [
      "maju truss pak jokowi\n"
     ]
    }
   ],
   "source": [
    "cases = []\n",
    "for s in symbolless:\n",
    "    sentence = s.lower()\n",
    "    cases.append(sentence)\n",
    "print(cases[19])"
   ]
  },
  {
   "cell_type": "markdown",
   "metadata": {},
   "source": [
    "<h4>Stopword Removal</h4>"
   ]
  },
  {
   "cell_type": "code",
   "execution_count": 111,
   "metadata": {},
   "outputs": [
    {
     "name": "stdout",
     "output_type": "stream",
     "text": [
      "segala difoto biar apa\n",
      "pencitraan terus\n",
      "datang cuman pelanga plongo\n",
      "lambatnya bertindak\n",
      "datang cuma foto doang\n",
      "semangat pak semua mendukung bapak\n",
      "sehat terus pak tetap berjiwa besar selalu jadi sosok penyabar atas nyinyiran orang yg tak tau apa apa dirimu\n",
      "kalo emang indonesia mau maju pikiran warganya ga sempit masa presiden sendiri ngebakar wilayahnya sendiri\n",
      "wkwkwkwk mantap jok kali aktingnya gak sendirian nih yeee\n",
      "kalau foto foto doang semua orang jugha kayak gitu bilang prestasi haha lucunya negriku\n",
      "mundur pakgak kan bapak urus negara iniserahkan ke ahli nya\n",
      "cekrek nunduk dikit cekrek hm wkwk pencitraan yg sangat unfaedah\n",
      "ngapain pa situ kerja nya cuman pencitraan malu pemimpin paling buruk sejarah indonesia\n",
      "presiden tukang bohong dipercaya heran guamah\n",
      "datang cuma mau foto mending ga usah datang paak\n",
      "cuma era bapak doang negara kacau\n",
      "masyaallah pak fighting\n",
      "tuhan punya rencana lebih indah pada semua\n",
      "stop menyindir nyarik kesalahan org intropeksi diri tidak tahu mna berusaha gbu\n",
      "maju truss pak jokowi\n",
      "bapak sabar ngurus semua rakyat yg tau diri biarin aja pak jangan denga\n",
      "selamat hancur indonesia ku\n",
      "semangat terus bapak\n",
      "luar biasa bapak presiden jokowi\n",
      "semangat bapak\n",
      "pak mundur ajah jd presiden\n",
      "luar biasa bapak presiden\n",
      "semangat pak jokowi\n",
      "gas teros pencitraan mu nak\n",
      "pak sehat terus\n",
      "kerjakan tuntas akar akarnya pak de\n",
      "semangat pak sehat terus pak\n",
      "jaga kesehatan pak\n",
      "jangan lupa jaga kesehatan pak\n",
      "salah nya bapak\n",
      "semangat pakdeh bungkam pembencimu\n",
      "sumber masalahnya bukan gantipindah ibukota ganti presiden\n",
      "jokowi hebat indonesia kuat\n",
      "kapan riau bos\n",
      "woi jokowi kau lihat lah asap riau ni jagan diam aja\n",
      "makin kesini makin ngaco presiden sebelumnya gak ginigini\n",
      "negri makin waras\n",
      "udah gagal ga malu pak lebih baik mundur pada mati nyesel\n",
      "ealah pak de gimana to kok pemerintahan jd dagelan gini\n",
      "warga indonesia mau jokowi undur diri jadi presiden indonesia\n",
      "ekting to wi jokowi\n",
      "tunjukan topeng aslimu pak gak usah malu2 gituh\n",
      "pak jangan pencitraan mulu\n",
      "ini presiden sok rakyat rakyatan\n",
      "terima kasih pak\n",
      "i love you mr presiden\n",
      "semangat pak banyak masalah jagan pernah putus asa pak\n",
      "alhamdulilah\n",
      "cinta jokowi indonesia\n",
      "terima kasih paktetap semangat smg sehat slalu\n",
      "semangat pak\n",
      "alhamdulillah barakallahu fikum bangga seluruh aparatur negara relawan yg bekerja pamrih semoga surga balasan terbaik mereka semua amin\n",
      "terima kasih bapak sehat terus pak\n",
      "semoga berhasil\n",
      "semoga segera tuntas amiinn\n",
      "sabar pa atas semua cobaan yakin bapa mengatasi semua\n"
     ]
    }
   ],
   "source": [
    "factory = StopWordRemoverFactory()\n",
    "stopwords = factory.create_stop_word_remover()\n",
    "\n",
    "removed_cases = []\n",
    "\n",
    "for c in cases:\n",
    "    c = stopwords.remove(c)\n",
    "    print(c)"
   ]
  },
  {
   "cell_type": "markdown",
   "metadata": {},
   "source": [
    "<h4>Tokenization</h4>"
   ]
  },
  {
   "cell_type": "code",
   "execution_count": 98,
   "metadata": {
    "scrolled": true
   },
   "outputs": [
    {
     "name": "stdout",
     "output_type": "stream",
     "text": [
      "['maju', 'truss', 'pak', 'jokowi']\n"
     ]
    }
   ],
   "source": [
    "tokens = []\n",
    "\n",
    "for c in cases:\n",
    "    token_data = c.split(\" \")\n",
    "    tokens.append(token_data)\n",
    "print(tokens[19])"
   ]
  },
  {
   "cell_type": "markdown",
   "metadata": {},
   "source": [
    "<h4>Stemming</h4>"
   ]
  },
  {
   "cell_type": "code",
   "execution_count": 99,
   "metadata": {},
   "outputs": [
    {
     "name": "stdout",
     "output_type": "stream",
     "text": [
      "['maju', 'truss', 'pak', 'jokowi']\n"
     ]
    }
   ],
   "source": [
    "factory = StemmerFactory()\n",
    "stemmer = factory.create_stemmer()\n",
    "\n",
    "stem_word = []\n",
    "\n",
    "for t in tokens:\n",
    "    comment = []\n",
    "    for w in t:\n",
    "        stem_data = stemmer.stem(w)\n",
    "        comment.append(stem_data)\n",
    "    stem_word.append(comment)\n",
    "print(stem_word[19])"
   ]
  },
  {
   "cell_type": "markdown",
   "metadata": {},
   "source": [
    "#### Slang Word"
   ]
  },
  {
   "cell_type": "code",
   "execution_count": 100,
   "metadata": {},
   "outputs": [
    {
     "name": "stdout",
     "output_type": "stream",
     "text": [
      "Kata Jokowi Disebut\n"
     ]
    }
   ],
   "source": [
    "kalimat = []\n",
    "nama= 'jokowi'  \n",
    "for s in symbolless:\n",
    "    sentence = s.lower()\n",
    "    kalimat.append(sentence)\n",
    "\n",
    "sentence_list = kalimat[19].split()\n",
    "\n",
    "\n",
    "for word in sentence_list:\n",
    "        if kata_dituju in word:\n",
    "            b = 1\n",
    "        else:\n",
    "            b = 0\n",
    "if b == 1:\n",
    "    print('Kata Jokowi Disebut')\n",
    "else:\n",
    "    print('Tidak ada nama Jokowi')"
   ]
  },
  {
   "cell_type": "code",
   "execution_count": 101,
   "metadata": {},
   "outputs": [
    {
     "name": "stdout",
     "output_type": "stream",
     "text": [
      "maju terus pak jokowi\n"
     ]
    }
   ],
   "source": [
    "slang = []\n",
    "Kata= {\"truss\": \"terus\"}   \n",
    "for s in symbolless:\n",
    "    sentence = s.lower()\n",
    "    slang.append(sentence)\n",
    "\n",
    "sentence_list = slang[19].split()\n",
    "new_sentence = []\n",
    "\n",
    "for word in sentence_list:\n",
    "    for candidate_replacement in Kata:\n",
    "        if candidate_replacement in word:\n",
    "            word = word.replace(candidate_replacement, Kata[candidate_replacement])\n",
    "\n",
    "    new_sentence.append(word)\n",
    "\n",
    "rfrm = \" \".join(new_sentence)\n",
    "print(rfrm)"
   ]
  },
  {
   "cell_type": "markdown",
   "metadata": {},
   "source": [
    "<h2>Naive Bayes</h2>"
   ]
  },
  {
   "cell_type": "markdown",
   "metadata": {},
   "source": [
    "<p>Corpus untuk proses Naive Bayes</p>"
   ]
  },
  {
   "cell_type": "code",
   "execution_count": 102,
   "metadata": {},
   "outputs": [],
   "source": [
    "nb_corpus = []"
   ]
  },
  {
   "cell_type": "code",
   "execution_count": 103,
   "metadata": {},
   "outputs": [],
   "source": [
    "\n",
    "ALPHA = 1\n",
    "\n",
    "def search_corpus(word):\n",
    "    for i in range(len(nb_corpus)):\n",
    "         if nb_corpus[i][\"kata\"] == word:\n",
    "            return nb_corpus[i], i\n",
    "    return({}, -1)\n",
    "\n",
    "def naive_bayes_formula(posneg_number,total_in_corpus):\n",
    "    if total_in_corpus == 0:\n",
    "        return 0\n",
    "    return((posneg_number + ALPHA)/total_in_corpus)\n",
    "\n",
    "def add_into_corpus(data):\n",
    "    search_result, index = search_corpus(data['kata'])\n",
    "    if not search_result:\n",
    "        nb_corpus.append(data)\n",
    "    else:\n",
    "        nb_corpus[index][\"pos\"] += 1\n",
    "        nb_corpus[index][\"neg\"] += 1\n",
    "        if data[\"pos\"] > data[\"neg\"]:\n",
    "            nb_corpus[index][\"neg\"] -= 1\n",
    "        elif data[\"neg\"] > data[\"pos\"]:\n",
    "            nb_corpus[index][\"pos\"] -= 1\n",
    "\n",
    "def naivebayes(single_data):\n",
    "    arr_data = []\n",
    "    \n",
    "    total_pos = 1\n",
    "    total_neg = 1\n",
    "    \n",
    "    for word in single_data:\n",
    "        data_in_corpus, index = search_corpus(word)\n",
    "        pos = 1\n",
    "        neg = 1\n",
    "        if data_in_corpus:\n",
    "            pos = naive_bayes_formula(data_in_corpus[\"pos\"], (data_in_corpus[\"pos\"] + data_in_corpus[\"neg\"]))\n",
    "            neg = naive_bayes_formula(data_in_corpus[\"neg\"], (data_in_corpus[\"pos\"] + data_in_corpus[\"neg\"]))\n",
    "        add_into_corpus({\n",
    "        \"kata\": word, \n",
    "        \"pos\": pos,\n",
    "        \"neg\": neg\n",
    "        })\n",
    "        total_pos *= pos\n",
    "        total_neg *= neg\n",
    "    \n",
    "    label = \"positive\"\n",
    "    \n",
    "    if total_neg > total_pos:\n",
    "        label = \"negative\"\n",
    "    elif total_neg == total_pos:\n",
    "        label = \"neutral\"\n",
    "        \n",
    "    print(single_data,\"     \",label)"
   ]
  },
  {
   "cell_type": "markdown",
   "metadata": {},
   "source": [
    "<p>Training dilakukan dengan menggunakan 10 data positif dan negatif</p>"
   ]
  },
  {
   "cell_type": "code",
   "execution_count": 104,
   "metadata": {},
   "outputs": [
    {
     "name": "stdout",
     "output_type": "stream",
     "text": [
      "[{'label': 'neg', 'kalimat': 'segala difoto biar apa'}, {'label': 'neg', 'kalimat': 'pencitraan terus'}, {'label': 'neg', 'kalimat': 'Datang cuman pelanga plongo'}, {'label': 'neg', 'kalimat': 'lambatnya bertindak'}, {'label': 'neg', 'kalimat': 'Datang cuma foto doang.'}, {'label': 'pos', 'kalimat': 'Semangat pak kami semua mendukung bapak'}, {'label': 'pos', 'kalimat': 'Sehat terus pak. Tetap berjiwa besar dan selalu jadi sosok yang penyabar atas nyinyiran orang yg tak tau apa apa tentang dirimu'}, {'label': 'pos', 'kalimat': 'Masyaallah pak.. Fighting.'}]\n"
     ]
    }
   ],
   "source": [
    "training_data = stem_word[0:7] + stem_word[16:17]\n",
    "training_raw_data = arr_data[0:7] + arr_data[16:17]\n",
    "print(training_raw_data)"
   ]
  },
  {
   "cell_type": "markdown",
   "metadata": {},
   "source": [
    "<p>Berikut proses training Naive Bayes</p>"
   ]
  },
  {
   "cell_type": "code",
   "execution_count": 105,
   "metadata": {},
   "outputs": [
    {
     "name": "stdout",
     "output_type": "stream",
     "text": [
      "segala :  0   1\n",
      "foto :  0   2\n",
      "biar :  0   1\n",
      "apa :  2   1\n",
      "citra :  0   1\n",
      "terus :  1   1\n",
      "datang :  0   2\n",
      "cuman :  0   1\n",
      "pelanga :  0   1\n",
      "plongo :  0   1\n",
      "lambat :  0   1\n",
      "tindak :  0   1\n",
      "cuma :  0   1\n",
      "doang :  0   1\n",
      "semangat :  1   0\n",
      "pak :  3   0\n",
      "kami :  1   0\n",
      "semua :  1   0\n",
      "dukung :  1   0\n",
      "bapak :  1   0\n",
      "sehat :  1   0\n",
      "tetap :  1   0\n",
      "jiwa :  1   0\n",
      "besar :  1   0\n",
      "dan :  1   0\n",
      "selalu :  1   0\n",
      "jadi :  1   0\n",
      "sosok :  1   0\n",
      "yang :  1   0\n",
      "sabar :  1   0\n",
      "atas :  1   0\n",
      "nyinyir :  1   0\n",
      "orang :  1   0\n",
      "yg :  1   0\n",
      "tak :  1   0\n",
      "tau :  1   0\n",
      "tentang :  1   0\n",
      "diri :  1   0\n",
      "masyaallah :  1   0\n",
      "fighting :  1   0\n"
     ]
    }
   ],
   "source": [
    "for i in range(len(training_data)):\n",
    "    pos = 0\n",
    "    neg = 0\n",
    "    \n",
    "    if training_raw_data[i]['label'] == 'pos':\n",
    "        pos = 1\n",
    "    else: \n",
    "        neg = 1\n",
    "    \n",
    "    for j in range(len(training_data[i])):\n",
    "        add_into_corpus({'kata': training_data[i][j], 'pos': pos, 'neg': neg})\n",
    "        \n",
    "\n",
    "for d in nb_corpus:\n",
    "    print(d['kata'],\": \",d['pos'],\" \",d['neg'])"
   ]
  },
  {
   "cell_type": "markdown",
   "metadata": {},
   "source": [
    "<p>Berikut hasil dari proses Naive Bayes terhadap seluruh data</p>"
   ]
  },
  {
   "cell_type": "code",
   "execution_count": 106,
   "metadata": {
    "scrolled": true
   },
   "outputs": [
    {
     "name": "stdout",
     "output_type": "stream",
     "text": [
      "['segala', 'foto', 'biar', 'apa']       negative\n",
      "['citra', 'terus']       negative\n",
      "['datang', 'cuman', 'pelanga', 'plongo']       negative\n",
      "['lambat', 'tindak']       negative\n",
      "['datang', 'cuma', 'foto', 'doang']       negative\n",
      "['semangat', 'pak', 'kami', 'semua', 'dukung', 'bapak']       positive\n",
      "['sehat', 'terus', 'pak', 'tetap', 'jiwa', 'besar', 'dan', 'selalu', 'jadi', 'sosok', 'yang', 'sabar', 'atas', 'nyinyir', 'orang', 'yg', 'tak', 'tau', 'apa', 'apa', 'tentang', 'diri']       positive\n",
      "['kalo', 'emang', 'indonesia', 'mau', 'maju', 'pikir', 'warga', 'ga', 'harus', 'sempit', 'ya', 'masa', 'presiden', 'sendiri', 'ngebakar', 'wilayah', 'sendiri']       neutral\n",
      "['wkwkwkwk', 'mantap', 'jok', 'kali', 'ini', 'akting', 'gak', 'sendiri', 'nih', 'yeee']       neutral\n",
      "['kalau', 'foto', 'foto', 'doang', 'semua', 'orang', 'jugha', 'bisa', 'kayak', 'gitu', 'di', 'bilang', 'prestasi', 'haha', 'lucu', 'negriku']       negative\n",
      "['mundur', 'saja', 'pakgak', 'kan', 'bisa', 'bapak', 'urus', 'negara', 'iniserahkan', 'saja', 'ke', 'ahli', 'nya']       positive\n",
      "['cekrek', 'nunduk', 'dikit', 'cekrek', 'hm', 'wkwk', 'citra', 'yg', 'sangat', 'unfaedah']       neutral\n",
      "['ngapain', 'pa', 'di', 'situ', 'kerja', 'nya', 'cuman', 'citra', 'malu', 'pimpin', 'paling', 'buruk', 'dalam', 'sejarah', 'indonesia']       negative\n",
      "['presiden', 'tukang', 'bohong', 'masih', 'percaya', 'heran', 'guamah']       neutral\n",
      "['datang', 'cuma', 'mau', 'foto', 'mending', 'ga', 'usah', 'datang', 'paak']       negative\n",
      "['cuma', 'di', 'era', 'bapak', 'doang', 'ya', 'negara', 'kacau']       negative\n",
      "['masyaallah', 'pak', 'fighting']       positive\n",
      "['tuhan', 'punya', 'rencana', 'lebih', 'indah', 'dari', 'pada', 'itu', 'semua']       positive\n",
      "['stop', 'sindir', 'dan', 'nyarik', 'salah', 'org', 'lain', 'intropeksi', 'diri', 'kita', 'tidak', 'tahu', 'sampai', 'mna', 'dia', 'usaha', 'gbu']       positive\n",
      "['maju', 'truss', 'pak', 'jokowi']       positive\n",
      "['bapak', 'harus', 'sabar', 'ngurus', 'ini', 'semua', 'rakyat', 'yg', 'tidak', 'tau', 'diri', 'biarin', 'aja', 'pak', 'jangan', 'di', 'denga']       positive\n",
      "['selamat', 'hancur', 'indonesia', 'ku']       neutral\n",
      "['semangat', 'terus', 'untuk', 'bapak']       positive\n",
      "['luar', 'biasa', 'bapak', 'presiden', 'jokowi']       positive\n",
      "['semangat', 'bapak']       positive\n",
      "['pak', 'mundur', 'ajah', 'jd', 'presiden']       positive\n",
      "['luar', 'biasa', 'bapak', 'presiden', 'kita']       positive\n",
      "['semangat', 'pak', 'jokowi']       positive\n",
      "['gas', 'ros', 'citra', 'mu', 'nak']       negative\n",
      "['pak', 'sehat', 'terus']       positive\n",
      "['kerja', 'sampai', 'tuntas', 'ke', 'akar', 'akar', 'pak', 'de']       positive\n",
      "['semangat', 'pak', 'sehat', 'terus', 'ya', 'pak']       positive\n",
      "['jaga', 'sehat', 'pak']       positive\n",
      "['jangan', 'lupa', 'jaga', 'sehat', 'pak']       positive\n",
      "['salah', 'nya', 'di', 'bapak']       positive\n",
      "['semangat', 'pakdeh', 'bungkam', 'benci']       positive\n",
      "['sumber', 'masalah', 'bukan', 'gantipindah', 'ibukota', 'tetapi', 'ganti', 'presiden']       neutral\n",
      "['jokowi', 'hebat', 'indonesia', 'kuat']       neutral\n",
      "['kapan', 'ke', 'riau', 'bos']       neutral\n",
      "['woi', 'jokowi', 'kau', 'lihat', 'lah', 'asap', 'riau', 'ni', 'jagan', 'diam', 'aja']       neutral\n",
      "['makin', 'kesini', 'makin', 'ngaco', 'presiden', 'belum', 'gak', 'ginigini', 'amat']       neutral\n",
      "['negri', 'ini', 'makin', 'tidak', 'waras']       neutral\n",
      "['udah', 'gagal', 'ga', 'malu', 'pak', 'lebih', 'baik', 'mundur', 'dari', 'pada', 'mati', 'nyesel']       positive\n",
      "['ealah', 'pak', 'de', 'gimana', 'to', 'kok', 'perintah', 'jd', 'dagel', 'gin']       positive\n",
      "['kami', 'warga', 'indonesia', 'mau', 'jokowi', 'undur', 'diri', 'jadi', 'presiden', 'indonesia']       positive\n",
      "['ekting', 'to', 'wi', 'jokowi']       neutral\n",
      "['tunjuk', 'topeng', 'asli', 'pak', 'gak', 'usah', 'malu2', 'gituh']       positive\n",
      "['pak', 'jangan', 'citra', 'mulu']       positive\n",
      "['oh', 'ini', 'presiden', 'yang', 'sok', 'ke', 'rakyat', 'rakyat']       positive\n",
      "['terima', 'kasih', 'pak']       positive\n",
      "['i', 'love', 'you', 'mr', 'presiden']       neutral\n",
      "['semangat', 'pak', 'walau', 'banyak', 'masalah', 'jagan', 'pernah', 'putus', 'asa', 'pak']       positive\n",
      "['alhamdulilah']       neutral\n",
      "['saya', 'cinta', 'jokowi', 'dan', 'indonesia']       positive\n",
      "['terima', 'kasih', 'paktetap', 'semangat', 'dan', 'smg', 'sehat', 'slalu']       positive\n",
      "['semangat', 'pak']       positive\n",
      "['alhamdulillah', 'barakallahu', 'fikum', 'saya', 'bangga', 'kepada', 'seluruh', 'aparatur', 'negara', 'dan', 'rawan', 'yg', 'kerja', 'tanpa', 'pamrih', 'moga', 'surga', 'balas', 'baik', 'untuk', 'mereka', 'semua', 'amin']       positive\n",
      "['terima', 'kasih', 'bapak', 'sehat', 'terus', 'kita', 'pak']       positive\n",
      "['moga', 'hasil']       neutral\n",
      "['moga', 'segera', 'tuntas', 'amiinn']       neutral\n",
      "['sabar', 'pa', 'atas', 'semua', 'coba', 'saya', 'yakin', 'bapa', 'bisa', 'atas', 'semua', 'ini']       positive\n"
     ]
    }
   ],
   "source": [
    "for word in stem_word:\n",
    "    naivebayes(word)"
   ]
  },
  {
   "cell_type": "markdown",
   "metadata": {},
   "source": [
    "<p>Berikut keadaan corpus Naive Bayes setelah pemrosesan</p>"
   ]
  },
  {
   "cell_type": "code",
   "execution_count": 107,
   "metadata": {},
   "outputs": [
    {
     "name": "stdout",
     "output_type": "stream",
     "text": [
      "segala :  0   2\n",
      "foto :  0   7\n",
      "biar :  0   2\n",
      "apa :  5   1\n",
      "citra :  0   6\n",
      "terus :  7   7\n",
      "datang :  0   6\n",
      "cuman :  0   3\n",
      "pelanga :  0   2\n",
      "plongo :  0   2\n",
      "lambat :  0   2\n",
      "tindak :  0   2\n",
      "cuma :  0   4\n",
      "doang :  0   4\n",
      "semangat :  10   0\n",
      "pak :  25   0\n",
      "kami :  3   0\n",
      "semua :  8   0\n",
      "dukung :  2   0\n",
      "bapak :  11   0\n",
      "sehat :  8   0\n",
      "tetap :  2   0\n",
      "jiwa :  2   0\n",
      "besar :  2   0\n",
      "dan :  6   0\n",
      "selalu :  2   0\n",
      "jadi :  3   0\n",
      "sosok :  2   0\n",
      "yang :  3   0\n",
      "sabar :  4   0\n",
      "atas :  4   0\n",
      "nyinyir :  2   0\n",
      "orang :  3   0\n",
      "yg :  5   0\n",
      "tak :  2   0\n",
      "tau :  3   0\n",
      "tentang :  2   0\n",
      "diri :  5   0\n",
      "masyaallah :  2   0\n",
      "fighting :  2   0\n",
      "kalo :  1   1\n",
      "emang :  1   1\n",
      "indonesia :  7   7\n",
      "mau :  3   3\n",
      "maju :  2   2\n",
      "pikir :  1   1\n",
      "warga :  2   2\n",
      "ga :  3   3\n",
      "harus :  2   2\n",
      "sempit :  1   1\n",
      "ya :  3   3\n",
      "masa :  1   1\n",
      "presiden :  10   10\n",
      "sendiri :  3   3\n",
      "ngebakar :  1   1\n",
      "wilayah :  1   1\n",
      "wkwkwkwk :  1   1\n",
      "mantap :  1   1\n",
      "jok :  1   1\n",
      "kali :  1   1\n",
      "ini :  5   5\n",
      "akting :  1   1\n",
      "gak :  3   3\n",
      "nih :  1   1\n",
      "yeee :  1   1\n",
      "kalau :  1   1\n",
      "jugha :  1   1\n",
      "bisa :  3   3\n",
      "kayak :  1   1\n",
      "gitu :  1   1\n",
      "di :  5   5\n",
      "bilang :  1   1\n",
      "prestasi :  1   1\n",
      "haha :  1   1\n",
      "lucu :  1   1\n",
      "negriku :  1   1\n",
      "mundur :  3   3\n",
      "saja :  2   2\n",
      "pakgak :  1   1\n",
      "kan :  1   1\n",
      "urus :  1   1\n",
      "negara :  3   3\n",
      "iniserahkan :  1   1\n",
      "ke :  4   4\n",
      "ahli :  1   1\n",
      "nya :  3   3\n",
      "cekrek :  2   2\n",
      "nunduk :  1   1\n",
      "dikit :  1   1\n",
      "hm :  1   1\n",
      "wkwk :  1   1\n",
      "sangat :  1   1\n",
      "unfaedah :  1   1\n",
      "ngapain :  1   1\n",
      "pa :  2   2\n",
      "situ :  1   1\n",
      "kerja :  3   3\n",
      "malu :  2   2\n",
      "pimpin :  1   1\n",
      "paling :  1   1\n",
      "buruk :  1   1\n",
      "dalam :  1   1\n",
      "sejarah :  1   1\n",
      "tukang :  1   1\n",
      "bohong :  1   1\n",
      "masih :  1   1\n",
      "percaya :  1   1\n",
      "heran :  1   1\n",
      "guamah :  1   1\n",
      "mending :  1   1\n",
      "usah :  2   2\n",
      "paak :  1   1\n",
      "era :  1   1\n",
      "kacau :  1   1\n",
      "tuhan :  1   1\n",
      "punya :  1   1\n",
      "rencana :  1   1\n",
      "lebih :  2   2\n",
      "indah :  1   1\n",
      "dari :  2   2\n",
      "pada :  2   2\n",
      "itu :  1   1\n",
      "stop :  1   1\n",
      "sindir :  1   1\n",
      "nyarik :  1   1\n",
      "salah :  2   2\n",
      "org :  1   1\n",
      "lain :  1   1\n",
      "intropeksi :  1   1\n",
      "kita :  3   3\n",
      "tidak :  3   3\n",
      "tahu :  1   1\n",
      "sampai :  2   2\n",
      "mna :  1   1\n",
      "dia :  1   1\n",
      "usaha :  1   1\n",
      "gbu :  1   1\n",
      "truss :  1   1\n",
      "jokowi :  8   8\n",
      "ngurus :  1   1\n",
      "rakyat :  3   3\n",
      "biarin :  1   1\n",
      "aja :  2   2\n",
      "jangan :  3   3\n",
      "denga :  1   1\n",
      "selamat :  1   1\n",
      "hancur :  1   1\n",
      "ku :  1   1\n",
      "untuk :  2   2\n",
      "luar :  2   2\n",
      "biasa :  2   2\n",
      "ajah :  1   1\n",
      "jd :  2   2\n",
      "gas :  1   1\n",
      "ros :  1   1\n",
      "mu :  1   1\n",
      "nak :  1   1\n",
      "tuntas :  2   2\n",
      "akar :  2   2\n",
      "de :  2   2\n",
      "jaga :  2   2\n",
      "lupa :  1   1\n",
      "pakdeh :  1   1\n",
      "bungkam :  1   1\n",
      "benci :  1   1\n",
      "sumber :  1   1\n",
      "masalah :  2   2\n",
      "bukan :  1   1\n",
      "gantipindah :  1   1\n",
      "ibukota :  1   1\n",
      "tetapi :  1   1\n",
      "ganti :  1   1\n",
      "hebat :  1   1\n",
      "kuat :  1   1\n",
      "kapan :  1   1\n",
      "riau :  2   2\n",
      "bos :  1   1\n",
      "woi :  1   1\n",
      "kau :  1   1\n",
      "lihat :  1   1\n",
      "lah :  1   1\n",
      "asap :  1   1\n",
      "ni :  1   1\n",
      "jagan :  2   2\n",
      "diam :  1   1\n",
      "makin :  3   3\n",
      "kesini :  1   1\n",
      "ngaco :  1   1\n",
      "belum :  1   1\n",
      "ginigini :  1   1\n",
      "amat :  1   1\n",
      "negri :  1   1\n",
      "waras :  1   1\n",
      "udah :  1   1\n",
      "gagal :  1   1\n",
      "baik :  2   2\n",
      "mati :  1   1\n",
      "nyesel :  1   1\n",
      "ealah :  1   1\n",
      "gimana :  1   1\n",
      "to :  2   2\n",
      "kok :  1   1\n",
      "perintah :  1   1\n",
      "dagel :  1   1\n",
      "gin :  1   1\n",
      "undur :  1   1\n",
      "ekting :  1   1\n",
      "wi :  1   1\n",
      "tunjuk :  1   1\n",
      "topeng :  1   1\n",
      "asli :  1   1\n",
      "malu2 :  1   1\n",
      "gituh :  1   1\n",
      "mulu :  1   1\n",
      "oh :  1   1\n",
      "sok :  1   1\n",
      "terima :  3   3\n",
      "kasih :  3   3\n",
      "i :  1   1\n",
      "love :  1   1\n",
      "you :  1   1\n",
      "mr :  1   1\n",
      "walau :  1   1\n",
      "banyak :  1   1\n",
      "pernah :  1   1\n",
      "putus :  1   1\n",
      "asa :  1   1\n",
      "alhamdulilah :  1   1\n",
      "saya :  3   3\n",
      "cinta :  1   1\n",
      "paktetap :  1   1\n",
      "smg :  1   1\n",
      "slalu :  1   1\n",
      "alhamdulillah :  1   1\n",
      "barakallahu :  1   1\n",
      "fikum :  1   1\n",
      "bangga :  1   1\n",
      "kepada :  1   1\n",
      "seluruh :  1   1\n",
      "aparatur :  1   1\n",
      "rawan :  1   1\n",
      "tanpa :  1   1\n",
      "pamrih :  1   1\n",
      "moga :  3   3\n",
      "surga :  1   1\n",
      "balas :  1   1\n",
      "mereka :  1   1\n",
      "amin :  1   1\n",
      "hasil :  1   1\n",
      "segera :  1   1\n",
      "amiinn :  1   1\n",
      "coba :  1   1\n",
      "yakin :  1   1\n",
      "bapa :  1   1\n"
     ]
    }
   ],
   "source": [
    "for d in nb_corpus:\n",
    "    print(d['kata'],\": \",d['pos'],\" \",d['neg'])"
   ]
  },
  {
   "cell_type": "markdown",
   "metadata": {},
   "source": [
    "# K-Flod"
   ]
  },
  {
   "cell_type": "code",
   "execution_count": null,
   "metadata": {},
   "outputs": [],
   "source": []
  },
  {
   "cell_type": "code",
   "execution_count": null,
   "metadata": {},
   "outputs": [],
   "source": []
  },
  {
   "cell_type": "code",
   "execution_count": null,
   "metadata": {},
   "outputs": [],
   "source": []
  }
 ],
 "metadata": {
  "kernelspec": {
   "display_name": "Python 3",
   "language": "python",
   "name": "python3"
  },
  "language_info": {
   "codemirror_mode": {
    "name": "ipython",
    "version": 3
   },
   "file_extension": ".py",
   "mimetype": "text/x-python",
   "name": "python",
   "nbconvert_exporter": "python",
   "pygments_lexer": "ipython3",
   "version": "3.7.4"
  }
 },
 "nbformat": 4,
 "nbformat_minor": 2
}
